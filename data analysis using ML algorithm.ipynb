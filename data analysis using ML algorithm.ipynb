{
 "cells": [
  {
   "cell_type": "markdown",
   "metadata": {},
   "source": [
    "# Reading the data"
   ]
  },
  {
   "cell_type": "code",
   "execution_count": 1,
   "metadata": {},
   "outputs": [],
   "source": [
    "import pandas as pd\n",
    "dfo = pd.read_csv(\"a.txt\")"
   ]
  },
  {
   "cell_type": "code",
   "execution_count": 2,
   "metadata": {},
   "outputs": [],
   "source": [
    "df = dfo.iloc[:,[0,1,2,3,4,9,12,16,17,18]]"
   ]
  },
  {
   "cell_type": "code",
   "execution_count": 3,
   "metadata": {},
   "outputs": [
    {
     "data": {
      "text/plain": [
       "(680, 10)"
      ]
     },
     "execution_count": 3,
     "metadata": {},
     "output_type": "execute_result"
    }
   ],
   "source": [
    "df.shape"
   ]
  },
  {
   "cell_type": "code",
   "execution_count": 4,
   "metadata": {},
   "outputs": [
    {
     "data": {
      "text/plain": [
       "Index(['AC_YEAR', 'STATCD', 'DISTCD', 'STATNAME', 'DISTNAME', 'TOTPOPULAT',\n",
       "       'GROWTHRATE', 'OVERALL_LI', 'FEMALE_LIT', 'MALE_LIT'],\n",
       "      dtype='object')"
      ]
     },
     "execution_count": 4,
     "metadata": {},
     "output_type": "execute_result"
    }
   ],
   "source": [
    "df.columns"
   ]
  },
  {
   "cell_type": "code",
   "execution_count": 5,
   "metadata": {},
   "outputs": [
    {
     "data": {
      "text/html": [
       "<div>\n",
       "<style scoped>\n",
       "    .dataframe tbody tr th:only-of-type {\n",
       "        vertical-align: middle;\n",
       "    }\n",
       "\n",
       "    .dataframe tbody tr th {\n",
       "        vertical-align: top;\n",
       "    }\n",
       "\n",
       "    .dataframe thead th {\n",
       "        text-align: right;\n",
       "    }\n",
       "</style>\n",
       "<table border=\"1\" class=\"dataframe\">\n",
       "  <thead>\n",
       "    <tr style=\"text-align: right;\">\n",
       "      <th></th>\n",
       "      <th>AC_YEAR</th>\n",
       "      <th>STATCD</th>\n",
       "      <th>DISTCD</th>\n",
       "      <th>STATNAME</th>\n",
       "      <th>DISTNAME</th>\n",
       "      <th>TOTPOPULAT</th>\n",
       "      <th>GROWTHRATE</th>\n",
       "      <th>OVERALL_LI</th>\n",
       "      <th>FEMALE_LIT</th>\n",
       "      <th>MALE_LIT</th>\n",
       "    </tr>\n",
       "  </thead>\n",
       "  <tbody>\n",
       "    <tr>\n",
       "      <td>0</td>\n",
       "      <td>2015-16</td>\n",
       "      <td>1</td>\n",
       "      <td>101</td>\n",
       "      <td>JAMMU &amp; KASHMIR</td>\n",
       "      <td>KUPWARA</td>\n",
       "      <td>875564.0</td>\n",
       "      <td>34.62</td>\n",
       "      <td>66.92</td>\n",
       "      <td>54.79</td>\n",
       "      <td>77.10</td>\n",
       "    </tr>\n",
       "    <tr>\n",
       "      <td>1</td>\n",
       "      <td>2015-16</td>\n",
       "      <td>1</td>\n",
       "      <td>102</td>\n",
       "      <td>JAMMU &amp; KASHMIR</td>\n",
       "      <td>BARAMULA</td>\n",
       "      <td>1015503.0</td>\n",
       "      <td>20.34</td>\n",
       "      <td>66.93</td>\n",
       "      <td>55.01</td>\n",
       "      <td>77.35</td>\n",
       "    </tr>\n",
       "    <tr>\n",
       "      <td>2</td>\n",
       "      <td>2015-16</td>\n",
       "      <td>1</td>\n",
       "      <td>103</td>\n",
       "      <td>JAMMU &amp; KASHMIR</td>\n",
       "      <td>SRINAGAR</td>\n",
       "      <td>1269751.0</td>\n",
       "      <td>23.56</td>\n",
       "      <td>71.21</td>\n",
       "      <td>63.47</td>\n",
       "      <td>77.95</td>\n",
       "    </tr>\n",
       "    <tr>\n",
       "      <td>3</td>\n",
       "      <td>2015-16</td>\n",
       "      <td>1</td>\n",
       "      <td>104</td>\n",
       "      <td>JAMMU &amp; KASHMIR</td>\n",
       "      <td>BADGAM</td>\n",
       "      <td>735753.0</td>\n",
       "      <td>21.18</td>\n",
       "      <td>57.98</td>\n",
       "      <td>46.60</td>\n",
       "      <td>68.56</td>\n",
       "    </tr>\n",
       "    <tr>\n",
       "      <td>4</td>\n",
       "      <td>2015-16</td>\n",
       "      <td>1</td>\n",
       "      <td>105</td>\n",
       "      <td>JAMMU &amp; KASHMIR</td>\n",
       "      <td>PULWAMA</td>\n",
       "      <td>570060.0</td>\n",
       "      <td>29.18</td>\n",
       "      <td>65.00</td>\n",
       "      <td>53.81</td>\n",
       "      <td>75.41</td>\n",
       "    </tr>\n",
       "  </tbody>\n",
       "</table>\n",
       "</div>"
      ],
      "text/plain": [
       "   AC_YEAR  STATCD  DISTCD         STATNAME  DISTNAME  TOTPOPULAT  GROWTHRATE  \\\n",
       "0  2015-16       1     101  JAMMU & KASHMIR   KUPWARA    875564.0       34.62   \n",
       "1  2015-16       1     102  JAMMU & KASHMIR  BARAMULA   1015503.0       20.34   \n",
       "2  2015-16       1     103  JAMMU & KASHMIR  SRINAGAR   1269751.0       23.56   \n",
       "3  2015-16       1     104  JAMMU & KASHMIR    BADGAM    735753.0       21.18   \n",
       "4  2015-16       1     105  JAMMU & KASHMIR   PULWAMA    570060.0       29.18   \n",
       "\n",
       "   OVERALL_LI  FEMALE_LIT  MALE_LIT  \n",
       "0       66.92       54.79     77.10  \n",
       "1       66.93       55.01     77.35  \n",
       "2       71.21       63.47     77.95  \n",
       "3       57.98       46.60     68.56  \n",
       "4       65.00       53.81     75.41  "
      ]
     },
     "execution_count": 5,
     "metadata": {},
     "output_type": "execute_result"
    }
   ],
   "source": [
    "df.head()"
   ]
  },
  {
   "cell_type": "code",
   "execution_count": 6,
   "metadata": {},
   "outputs": [
    {
     "data": {
      "text/plain": [
       "AC_YEAR        object\n",
       "STATCD          int64\n",
       "DISTCD          int64\n",
       "STATNAME       object\n",
       "DISTNAME       object\n",
       "TOTPOPULAT    float64\n",
       "GROWTHRATE    float64\n",
       "OVERALL_LI    float64\n",
       "FEMALE_LIT    float64\n",
       "MALE_LIT      float64\n",
       "dtype: object"
      ]
     },
     "execution_count": 6,
     "metadata": {},
     "output_type": "execute_result"
    }
   ],
   "source": [
    "#identifying categorical and continuous variables\n",
    "df.dtypes"
   ]
  },
  {
   "cell_type": "markdown",
   "metadata": {},
   "source": [
    "# Univariate Analysis of Continuous Variables"
   ]
  },
  {
   "cell_type": "code",
   "execution_count": 7,
   "metadata": {},
   "outputs": [
    {
     "data": {
      "text/html": [
       "<div>\n",
       "<style scoped>\n",
       "    .dataframe tbody tr th:only-of-type {\n",
       "        vertical-align: middle;\n",
       "    }\n",
       "\n",
       "    .dataframe tbody tr th {\n",
       "        vertical-align: top;\n",
       "    }\n",
       "\n",
       "    .dataframe thead th {\n",
       "        text-align: right;\n",
       "    }\n",
       "</style>\n",
       "<table border=\"1\" class=\"dataframe\">\n",
       "  <thead>\n",
       "    <tr style=\"text-align: right;\">\n",
       "      <th></th>\n",
       "      <th>STATCD</th>\n",
       "      <th>DISTCD</th>\n",
       "      <th>TOTPOPULAT</th>\n",
       "      <th>GROWTHRATE</th>\n",
       "      <th>OVERALL_LI</th>\n",
       "      <th>FEMALE_LIT</th>\n",
       "      <th>MALE_LIT</th>\n",
       "    </tr>\n",
       "  </thead>\n",
       "  <tbody>\n",
       "    <tr>\n",
       "      <td>count</td>\n",
       "      <td>680.000000</td>\n",
       "      <td>680.000000</td>\n",
       "      <td>6.340000e+02</td>\n",
       "      <td>634.000000</td>\n",
       "      <td>634.000000</td>\n",
       "      <td>637.000000</td>\n",
       "      <td>638.000000</td>\n",
       "    </tr>\n",
       "    <tr>\n",
       "      <td>mean</td>\n",
       "      <td>17.292647</td>\n",
       "      <td>1745.976471</td>\n",
       "      <td>1.899024e+06</td>\n",
       "      <td>17.627886</td>\n",
       "      <td>73.395189</td>\n",
       "      <td>64.635840</td>\n",
       "      <td>81.597179</td>\n",
       "    </tr>\n",
       "    <tr>\n",
       "      <td>std</td>\n",
       "      <td>9.451743</td>\n",
       "      <td>944.257509</td>\n",
       "      <td>1.547475e+06</td>\n",
       "      <td>11.346020</td>\n",
       "      <td>10.098460</td>\n",
       "      <td>12.476193</td>\n",
       "      <td>8.635919</td>\n",
       "    </tr>\n",
       "    <tr>\n",
       "      <td>min</td>\n",
       "      <td>1.000000</td>\n",
       "      <td>101.000000</td>\n",
       "      <td>7.948000e+03</td>\n",
       "      <td>-58.390000</td>\n",
       "      <td>37.220000</td>\n",
       "      <td>30.970000</td>\n",
       "      <td>43.600000</td>\n",
       "    </tr>\n",
       "    <tr>\n",
       "      <td>25%</td>\n",
       "      <td>9.000000</td>\n",
       "      <td>937.750000</td>\n",
       "      <td>8.226940e+05</td>\n",
       "      <td>12.052500</td>\n",
       "      <td>66.437500</td>\n",
       "      <td>56.030000</td>\n",
       "      <td>76.505000</td>\n",
       "    </tr>\n",
       "    <tr>\n",
       "      <td>50%</td>\n",
       "      <td>18.000000</td>\n",
       "      <td>1823.500000</td>\n",
       "      <td>1.564392e+06</td>\n",
       "      <td>17.055000</td>\n",
       "      <td>73.490000</td>\n",
       "      <td>63.880000</td>\n",
       "      <td>82.745000</td>\n",
       "    </tr>\n",
       "    <tr>\n",
       "      <td>75%</td>\n",
       "      <td>24.000000</td>\n",
       "      <td>2413.250000</td>\n",
       "      <td>2.587520e+06</td>\n",
       "      <td>22.740000</td>\n",
       "      <td>80.815000</td>\n",
       "      <td>73.570000</td>\n",
       "      <td>87.887500</td>\n",
       "    </tr>\n",
       "    <tr>\n",
       "      <td>max</td>\n",
       "      <td>36.000000</td>\n",
       "      <td>3610.000000</td>\n",
       "      <td>1.105413e+07</td>\n",
       "      <td>111.010000</td>\n",
       "      <td>98.760000</td>\n",
       "      <td>98.280000</td>\n",
       "      <td>99.240000</td>\n",
       "    </tr>\n",
       "  </tbody>\n",
       "</table>\n",
       "</div>"
      ],
      "text/plain": [
       "           STATCD       DISTCD    TOTPOPULAT  GROWTHRATE  OVERALL_LI  \\\n",
       "count  680.000000   680.000000  6.340000e+02  634.000000  634.000000   \n",
       "mean    17.292647  1745.976471  1.899024e+06   17.627886   73.395189   \n",
       "std      9.451743   944.257509  1.547475e+06   11.346020   10.098460   \n",
       "min      1.000000   101.000000  7.948000e+03  -58.390000   37.220000   \n",
       "25%      9.000000   937.750000  8.226940e+05   12.052500   66.437500   \n",
       "50%     18.000000  1823.500000  1.564392e+06   17.055000   73.490000   \n",
       "75%     24.000000  2413.250000  2.587520e+06   22.740000   80.815000   \n",
       "max     36.000000  3610.000000  1.105413e+07  111.010000   98.760000   \n",
       "\n",
       "       FEMALE_LIT    MALE_LIT  \n",
       "count  637.000000  638.000000  \n",
       "mean    64.635840   81.597179  \n",
       "std     12.476193    8.635919  \n",
       "min     30.970000   43.600000  \n",
       "25%     56.030000   76.505000  \n",
       "50%     63.880000   82.745000  \n",
       "75%     73.570000   87.887500  \n",
       "max     98.280000   99.240000  "
      ]
     },
     "execution_count": 7,
     "metadata": {},
     "output_type": "execute_result"
    }
   ],
   "source": [
    "#using the describe function on the continuous variables\n",
    "df.describe()"
   ]
  },
  {
   "cell_type": "code",
   "execution_count": 8,
   "metadata": {},
   "outputs": [
    {
     "data": {
      "text/plain": [
       "<matplotlib.axes._subplots.AxesSubplot at 0x1b4dc7b8e08>"
      ]
     },
     "execution_count": 8,
     "metadata": {},
     "output_type": "execute_result"
    }
   ],
   "source": [
    "#plotting a histogram of overall literacy\n",
    "df['OVERALL_LI'].plot.hist()\n",
    " "
   ]
  },
  {
   "cell_type": "code",
   "execution_count": 9,
   "metadata": {},
   "outputs": [
    {
     "data": {
      "text/plain": [
       "<matplotlib.axes._subplots.AxesSubplot at 0x1b4dd254ac8>"
      ]
     },
     "execution_count": 9,
     "metadata": {},
     "output_type": "execute_result"
    },
    {
     "data": {
      "image/png": "[encoded data removed]",
      "text/plain": [
       "<Figure size 432x288 with 1 Axes>"
      ]
     },
     "metadata": {
      "needs_background": "light"
     },
     "output_type": "display_data"
    }
   ],
   "source": [
    "#plotting the box plot for literacy rate\n",
    "df[\"OVERALL_LI\"].plot.box()"
   ]
  },
  {
   "cell_type": "markdown",
   "metadata": {},
   "source": [
    "# Univariate analysis of categorical variables"
   ]
  },
  {
   "cell_type": "code",
   "execution_count": 10,
   "metadata": {},
   "outputs": [
    {
     "data": {
      "text/plain": [
       "UTTAR PRADESH           75\n",
       "MADHYA PRADESH          51\n",
       "BIHAR                   38\n",
       "MAHARASHTRA             36\n",
       "KARNATAKA               34\n",
       "GUJARAT                 33\n",
       "RAJASTHAN               33\n",
       "ODISHA                  30\n",
       "TAMIL NADU              30\n",
       "ASSAM                   27\n",
       "CHHATTISGARH            27\n",
       "JHARKHAND               24\n",
       "JAMMU & KASHMIR         22\n",
       "PUNJAB                  22\n",
       "WEST BENGAL             21\n",
       "HARYANA                 21\n",
       "ARUNACHAL PRADESH       20\n",
       "KERALA                  14\n",
       "ANDHRA PRADESH          13\n",
       "UTTARAKHAND             13\n",
       "HIMACHAL PRADESH        12\n",
       "NAGALAND                11\n",
       "MEGHALAYA               11\n",
       "TELANGANA               10\n",
       "MANIPUR                  9\n",
       "DELHI                    9\n",
       "MIZORAM                  8\n",
       "TRIPURA                  8\n",
       "SIKKIM                   4\n",
       "PUDUCHERRY               4\n",
       "A & N ISLANDS            3\n",
       "DAMAN & DIU              2\n",
       "GOA                      2\n",
       "DADRA & NAGAR HAVELI     1\n",
       "CHANDIGARH               1\n",
       "LAKSHADWEEP              1\n",
       "Name: STATNAME, dtype: int64"
      ]
     },
     "execution_count": 10,
     "metadata": {},
     "output_type": "execute_result"
    }
   ],
   "source": [
    "#create frequency table for state name\n",
    "df['STATNAME'].value_counts()"
   ]
  },
  {
   "cell_type": "code",
   "execution_count": 11,
   "metadata": {},
   "outputs": [
    {
     "data": {
      "text/plain": [
       "UTTAR PRADESH           0.110294\n",
       "MADHYA PRADESH          0.075000\n",
       "BIHAR                   0.055882\n",
       "MAHARASHTRA             0.052941\n",
       "KARNATAKA               0.050000\n",
       "GUJARAT                 0.048529\n",
       "RAJASTHAN               0.048529\n",
       "ODISHA                  0.044118\n",
       "TAMIL NADU              0.044118\n",
       "ASSAM                   0.039706\n",
       "CHHATTISGARH            0.039706\n",
       "JHARKHAND               0.035294\n",
       "JAMMU & KASHMIR         0.032353\n",
       "PUNJAB                  0.032353\n",
       "WEST BENGAL             0.030882\n",
       "HARYANA                 0.030882\n",
       "ARUNACHAL PRADESH       0.029412\n",
       "KERALA                  0.020588\n",
       "ANDHRA PRADESH          0.019118\n",
       "UTTARAKHAND             0.019118\n",
       "HIMACHAL PRADESH        0.017647\n",
       "NAGALAND                0.016176\n",
       "MEGHALAYA               0.016176\n",
       "TELANGANA               0.014706\n",
       "MANIPUR                 0.013235\n",
       "DELHI                   0.013235\n",
       "MIZORAM                 0.011765\n",
       "TRIPURA                 0.011765\n",
       "SIKKIM                  0.005882\n",
       "PUDUCHERRY              0.005882\n",
       "A & N ISLANDS           0.004412\n",
       "DAMAN & DIU             0.002941\n",
       "GOA                     0.002941\n",
       "DADRA & NAGAR HAVELI    0.001471\n",
       "CHANDIGARH              0.001471\n",
       "LAKSHADWEEP             0.001471\n",
       "Name: STATNAME, dtype: float64"
      ]
     },
     "execution_count": 11,
     "metadata": {},
     "output_type": "execute_result"
    }
   ],
   "source": [
    "#create percentages\n",
    "df['STATNAME'].value_counts()/len(df['STATNAME'])"
   ]
  },
  {
   "cell_type": "code",
   "execution_count": 12,
   "metadata": {},
   "outputs": [
    {
     "data": {
      "text/plain": [
       "<matplotlib.axes._subplots.AxesSubplot at 0x1b4dd2524c8>"
      ]
     },
     "execution_count": 12,
     "metadata": {},
     "output_type": "execute_result"
    },
    {
     "data": {
      "image/png": "[encoded data removed]",
      "text/plain": [
       "<Figure size 432x288 with 1 Axes>"
      ]
     },
     "metadata": {
      "needs_background": "light"
     },
     "output_type": "display_data"
    }
   ],
   "source": [
    "#creating a bar plot for statenames\n",
    "df['STATNAME'].value_counts().plot.bar()"
   ]
  },
  {
   "cell_type": "code",
   "execution_count": 13,
   "metadata": {},
   "outputs": [
    {
     "data": {
      "text/plain": [
       "<matplotlib.axes._subplots.AxesSubplot at 0x1b4dd45ce88>"
      ]
     },
     "execution_count": 13,
     "metadata": {},
     "output_type": "execute_result"
    },
    {
     "data": {
      "image/png": "[encoded data removed]",
      "text/plain": [
       "<Figure size 432x288 with 1 Axes>"
      ]
     },
     "metadata": {
      "needs_background": "light"
     },
     "output_type": "display_data"
    }
   ],
   "source": [
    "(df['STATNAME'].value_counts()/len(df['STATNAME'])).plot.bar()"
   ]
  },
  {
   "cell_type": "markdown",
   "metadata": {},
   "source": [
    "# Bivariate analysis of continuous and continuous variables"
   ]
  },
  {
   "cell_type": "code",
   "execution_count": 14,
   "metadata": {},
   "outputs": [
    {
     "data": {
      "text/plain": [
       "AC_YEAR        object\n",
       "STATCD          int64\n",
       "DISTCD          int64\n",
       "STATNAME       object\n",
       "DISTNAME       object\n",
       "TOTPOPULAT    float64\n",
       "GROWTHRATE    float64\n",
       "OVERALL_LI    float64\n",
       "FEMALE_LIT    float64\n",
       "MALE_LIT      float64\n",
       "dtype: object"
      ]
     },
     "execution_count": 14,
     "metadata": {},
     "output_type": "execute_result"
    }
   ],
   "source": [
    "df.dtypes"
   ]
  },
  {
   "cell_type": "code",
   "execution_count": 15,
   "metadata": {},
   "outputs": [
    {
     "data": {
      "text/plain": [
       "<matplotlib.axes._subplots.AxesSubplot at 0x1b4dd58aa48>"
      ]
     },
     "execution_count": 15,
     "metadata": {},
     "output_type": "execute_result"
    },
    {
     "data": {
      "image/png": "[encoded data removed]",
      "text/plain": [
       "<Figure size 432x288 with 1 Axes>"
      ]
     },
     "metadata": {
      "needs_background": "light"
     },
     "output_type": "display_data"
    }
   ],
   "source": [
    "import matplotlib.pyplot as plt\n",
    "df.plot.scatter('FEMALE_LIT','OVERALL_LI')"
   ]
  },
  {
   "cell_type": "code",
   "execution_count": 16,
   "metadata": {},
   "outputs": [
    {
     "data": {
      "text/html": [
       "<div>\n",
       "<style scoped>\n",
       "    .dataframe tbody tr th:only-of-type {\n",
       "        vertical-align: middle;\n",
       "    }\n",
       "\n",
       "    .dataframe tbody tr th {\n",
       "        vertical-align: top;\n",
       "    }\n",
       "\n",
       "    .dataframe thead th {\n",
       "        text-align: right;\n",
       "    }\n",
       "</style>\n",
       "<table border=\"1\" class=\"dataframe\">\n",
       "  <thead>\n",
       "    <tr style=\"text-align: right;\">\n",
       "      <th></th>\n",
       "      <th>STATCD</th>\n",
       "      <th>DISTCD</th>\n",
       "      <th>TOTPOPULAT</th>\n",
       "      <th>GROWTHRATE</th>\n",
       "      <th>OVERALL_LI</th>\n",
       "      <th>FEMALE_LIT</th>\n",
       "      <th>MALE_LIT</th>\n",
       "    </tr>\n",
       "  </thead>\n",
       "  <tbody>\n",
       "    <tr>\n",
       "      <td>STATCD</td>\n",
       "      <td>1.000000</td>\n",
       "      <td>0.999887</td>\n",
       "      <td>0.184905</td>\n",
       "      <td>-0.177597</td>\n",
       "      <td>0.203096</td>\n",
       "      <td>0.242700</td>\n",
       "      <td>0.155135</td>\n",
       "    </tr>\n",
       "    <tr>\n",
       "      <td>DISTCD</td>\n",
       "      <td>0.999887</td>\n",
       "      <td>1.000000</td>\n",
       "      <td>0.187356</td>\n",
       "      <td>-0.177353</td>\n",
       "      <td>0.200267</td>\n",
       "      <td>0.239345</td>\n",
       "      <td>0.153274</td>\n",
       "    </tr>\n",
       "    <tr>\n",
       "      <td>TOTPOPULAT</td>\n",
       "      <td>0.184905</td>\n",
       "      <td>0.187356</td>\n",
       "      <td>1.000000</td>\n",
       "      <td>0.075613</td>\n",
       "      <td>0.050268</td>\n",
       "      <td>0.048093</td>\n",
       "      <td>0.039312</td>\n",
       "    </tr>\n",
       "    <tr>\n",
       "      <td>GROWTHRATE</td>\n",
       "      <td>-0.177597</td>\n",
       "      <td>-0.177353</td>\n",
       "      <td>0.075613</td>\n",
       "      <td>1.000000</td>\n",
       "      <td>-0.288773</td>\n",
       "      <td>-0.298157</td>\n",
       "      <td>-0.276267</td>\n",
       "    </tr>\n",
       "    <tr>\n",
       "      <td>OVERALL_LI</td>\n",
       "      <td>0.203096</td>\n",
       "      <td>0.200267</td>\n",
       "      <td>0.050268</td>\n",
       "      <td>-0.288773</td>\n",
       "      <td>1.000000</td>\n",
       "      <td>0.975656</td>\n",
       "      <td>0.952656</td>\n",
       "    </tr>\n",
       "    <tr>\n",
       "      <td>FEMALE_LIT</td>\n",
       "      <td>0.242700</td>\n",
       "      <td>0.239345</td>\n",
       "      <td>0.048093</td>\n",
       "      <td>-0.298157</td>\n",
       "      <td>0.975656</td>\n",
       "      <td>1.000000</td>\n",
       "      <td>0.865246</td>\n",
       "    </tr>\n",
       "    <tr>\n",
       "      <td>MALE_LIT</td>\n",
       "      <td>0.155135</td>\n",
       "      <td>0.153274</td>\n",
       "      <td>0.039312</td>\n",
       "      <td>-0.276267</td>\n",
       "      <td>0.952656</td>\n",
       "      <td>0.865246</td>\n",
       "      <td>1.000000</td>\n",
       "    </tr>\n",
       "  </tbody>\n",
       "</table>\n",
       "</div>"
      ],
      "text/plain": [
       "              STATCD    DISTCD  TOTPOPULAT  GROWTHRATE  OVERALL_LI  \\\n",
       "STATCD      1.000000  0.999887    0.184905   -0.177597    0.203096   \n",
       "DISTCD      0.999887  1.000000    0.187356   -0.177353    0.200267   \n",
       "TOTPOPULAT  0.184905  0.187356    1.000000    0.075613    0.050268   \n",
       "GROWTHRATE -0.177597 -0.177353    0.075613    1.000000   -0.288773   \n",
       "OVERALL_LI  0.203096  0.200267    0.050268   -0.288773    1.000000   \n",
       "FEMALE_LIT  0.242700  0.239345    0.048093   -0.298157    0.975656   \n",
       "MALE_LIT    0.155135  0.153274    0.039312   -0.276267    0.952656   \n",
       "\n",
       "            FEMALE_LIT  MALE_LIT  \n",
       "STATCD        0.242700  0.155135  \n",
       "DISTCD        0.239345  0.153274  \n",
       "TOTPOPULAT    0.048093  0.039312  \n",
       "GROWTHRATE   -0.298157 -0.276267  \n",
       "OVERALL_LI    0.975656  0.952656  \n",
       "FEMALE_LIT    1.000000  0.865246  \n",
       "MALE_LIT      0.865246  1.000000  "
      ]
     },
     "execution_count": 16,
     "metadata": {},
     "output_type": "execute_result"
    }
   ],
   "source": [
    "df.corr()"
   ]
  },
  {
   "cell_type": "code",
   "execution_count": 17,
   "metadata": {},
   "outputs": [
    {
     "data": {
      "text/plain": [
       "0.9756558410434064"
      ]
     },
     "execution_count": 17,
     "metadata": {},
     "output_type": "execute_result"
    }
   ],
   "source": [
    "df['OVERALL_LI'].corr(df['FEMALE_LIT'])"
   ]
  },
  {
   "cell_type": "markdown",
   "metadata": {},
   "source": [
    "# Bivariate Analysis of Continuous Categorical Varaibles"
   ]
  },
  {
   "cell_type": "code",
   "execution_count": 18,
   "metadata": {},
   "outputs": [
    {
     "data": {
      "text/plain": [
       "<matplotlib.axes._subplots.AxesSubplot at 0x1b4dd5ef188>"
      ]
     },
     "execution_count": 18,
     "metadata": {},
     "output_type": "execute_result"
    },
    {
     "data": {
      "image/png": "[encoded data removed]",
      "text/plain": [
       "<Figure size 432x288 with 1 Axes>"
      ]
     },
     "metadata": {
      "needs_background": "light"
     },
     "output_type": "display_data"
    }
   ],
   "source": [
    "df.groupby('STATNAME')['OVERALL_LI'].mean().plot.bar()"
   ]
  },
  {
   "cell_type": "code",
   "execution_count": 19,
   "metadata": {},
   "outputs": [],
   "source": [
    "#importing the scipy library for ttest\n",
    "from scipy.stats import ttest_ind"
   ]
  },
  {
   "cell_type": "code",
   "execution_count": 20,
   "metadata": {},
   "outputs": [],
   "source": [
    "mp = df[df['STATNAME']=='MADHYA PRADESH']\n",
    "up = df[df['STATNAME']=='UTTAR PRADESH']"
   ]
  },
  {
   "cell_type": "code",
   "execution_count": 21,
   "metadata": {},
   "outputs": [
    {
     "data": {
      "text/plain": [
       "Ttest_indResult(statistic=-0.3500551004299759, pvalue=0.7269161520311951)"
      ]
     },
     "execution_count": 21,
     "metadata": {},
     "output_type": "execute_result"
    }
   ],
   "source": [
    "ttest_ind(mp['OVERALL_LI'],up['OVERALL_LI'],nan_policy='omit')"
   ]
  },
  {
   "cell_type": "markdown",
   "metadata": {},
   "source": [
    "it shows the difference between the literacy rate of mp and up is not different"
   ]
  },
  {
   "cell_type": "code",
   "execution_count": 22,
   "metadata": {},
   "outputs": [],
   "source": [
    "ke = df[df['STATNAME']=='KERALA']\n",
    "mp = df[df['STATNAME']=='MADHYA PRADESH']"
   ]
  },
  {
   "cell_type": "code",
   "execution_count": 23,
   "metadata": {},
   "outputs": [
    {
     "data": {
      "text/plain": [
       "Ttest_indResult(statistic=-12.098130223437272, pvalue=5.196006535199972e-20)"
      ]
     },
     "execution_count": 23,
     "metadata": {},
     "output_type": "execute_result"
    }
   ],
   "source": [
    "ttest_ind(up['OVERALL_LI'],ke['OVERALL_LI'],nan_policy='omit')"
   ]
  },
  {
   "cell_type": "markdown",
   "metadata": {},
   "source": [
    "it shows the difference between these states is different"
   ]
  },
  {
   "cell_type": "markdown",
   "metadata": {},
   "source": [
    "# Bivariate analysis of Categorical Categorical Variables"
   ]
  },
  {
   "cell_type": "code",
   "execution_count": 24,
   "metadata": {},
   "outputs": [
    {
     "data": {
      "text/html": [
       "<div>\n",
       "<style scoped>\n",
       "    .dataframe tbody tr th:only-of-type {\n",
       "        vertical-align: middle;\n",
       "    }\n",
       "\n",
       "    .dataframe tbody tr th {\n",
       "        vertical-align: top;\n",
       "    }\n",
       "\n",
       "    .dataframe thead th {\n",
       "        text-align: right;\n",
       "    }\n",
       "</style>\n",
       "<table border=\"1\" class=\"dataframe\">\n",
       "  <thead>\n",
       "    <tr style=\"text-align: right;\">\n",
       "      <th></th>\n",
       "      <th>STATCD</th>\n",
       "      <th>DISTCD</th>\n",
       "      <th>TOTPOPULAT</th>\n",
       "      <th>GROWTHRATE</th>\n",
       "      <th>OVERALL_LI</th>\n",
       "      <th>FEMALE_LIT</th>\n",
       "      <th>MALE_LIT</th>\n",
       "    </tr>\n",
       "  </thead>\n",
       "  <tbody>\n",
       "    <tr>\n",
       "      <td>count</td>\n",
       "      <td>680.000000</td>\n",
       "      <td>680.000000</td>\n",
       "      <td>6.340000e+02</td>\n",
       "      <td>634.000000</td>\n",
       "      <td>634.000000</td>\n",
       "      <td>637.000000</td>\n",
       "      <td>638.000000</td>\n",
       "    </tr>\n",
       "    <tr>\n",
       "      <td>mean</td>\n",
       "      <td>17.292647</td>\n",
       "      <td>1745.976471</td>\n",
       "      <td>1.899024e+06</td>\n",
       "      <td>17.627886</td>\n",
       "      <td>73.395189</td>\n",
       "      <td>64.635840</td>\n",
       "      <td>81.597179</td>\n",
       "    </tr>\n",
       "    <tr>\n",
       "      <td>std</td>\n",
       "      <td>9.451743</td>\n",
       "      <td>944.257509</td>\n",
       "      <td>1.547475e+06</td>\n",
       "      <td>11.346020</td>\n",
       "      <td>10.098460</td>\n",
       "      <td>12.476193</td>\n",
       "      <td>8.635919</td>\n",
       "    </tr>\n",
       "    <tr>\n",
       "      <td>min</td>\n",
       "      <td>1.000000</td>\n",
       "      <td>101.000000</td>\n",
       "      <td>7.948000e+03</td>\n",
       "      <td>-58.390000</td>\n",
       "      <td>37.220000</td>\n",
       "      <td>30.970000</td>\n",
       "      <td>43.600000</td>\n",
       "    </tr>\n",
       "    <tr>\n",
       "      <td>25%</td>\n",
       "      <td>9.000000</td>\n",
       "      <td>937.750000</td>\n",
       "      <td>8.226940e+05</td>\n",
       "      <td>12.052500</td>\n",
       "      <td>66.437500</td>\n",
       "      <td>56.030000</td>\n",
       "      <td>76.505000</td>\n",
       "    </tr>\n",
       "    <tr>\n",
       "      <td>50%</td>\n",
       "      <td>18.000000</td>\n",
       "      <td>1823.500000</td>\n",
       "      <td>1.564392e+06</td>\n",
       "      <td>17.055000</td>\n",
       "      <td>73.490000</td>\n",
       "      <td>63.880000</td>\n",
       "      <td>82.745000</td>\n",
       "    </tr>\n",
       "    <tr>\n",
       "      <td>75%</td>\n",
       "      <td>24.000000</td>\n",
       "      <td>2413.250000</td>\n",
       "      <td>2.587520e+06</td>\n",
       "      <td>22.740000</td>\n",
       "      <td>80.815000</td>\n",
       "      <td>73.570000</td>\n",
       "      <td>87.887500</td>\n",
       "    </tr>\n",
       "    <tr>\n",
       "      <td>max</td>\n",
       "      <td>36.000000</td>\n",
       "      <td>3610.000000</td>\n",
       "      <td>1.105413e+07</td>\n",
       "      <td>111.010000</td>\n",
       "      <td>98.760000</td>\n",
       "      <td>98.280000</td>\n",
       "      <td>99.240000</td>\n",
       "    </tr>\n",
       "  </tbody>\n",
       "</table>\n",
       "</div>"
      ],
      "text/plain": [
       "           STATCD       DISTCD    TOTPOPULAT  GROWTHRATE  OVERALL_LI  \\\n",
       "count  680.000000   680.000000  6.340000e+02  634.000000  634.000000   \n",
       "mean    17.292647  1745.976471  1.899024e+06   17.627886   73.395189   \n",
       "std      9.451743   944.257509  1.547475e+06   11.346020   10.098460   \n",
       "min      1.000000   101.000000  7.948000e+03  -58.390000   37.220000   \n",
       "25%      9.000000   937.750000  8.226940e+05   12.052500   66.437500   \n",
       "50%     18.000000  1823.500000  1.564392e+06   17.055000   73.490000   \n",
       "75%     24.000000  2413.250000  2.587520e+06   22.740000   80.815000   \n",
       "max     36.000000  3610.000000  1.105413e+07  111.010000   98.760000   \n",
       "\n",
       "       FEMALE_LIT    MALE_LIT  \n",
       "count  637.000000  638.000000  \n",
       "mean    64.635840   81.597179  \n",
       "std     12.476193    8.635919  \n",
       "min     30.970000   43.600000  \n",
       "25%     56.030000   76.505000  \n",
       "50%     63.880000   82.745000  \n",
       "75%     73.570000   87.887500  \n",
       "max     98.280000   99.240000  "
      ]
     },
     "execution_count": 24,
     "metadata": {},
     "output_type": "execute_result"
    }
   ],
   "source": [
    "df.describe()"
   ]
  },
  {
   "cell_type": "code",
   "execution_count": 25,
   "metadata": {},
   "outputs": [
    {
     "data": {
      "text/plain": [
       "AC_YEAR        0\n",
       "STATCD         0\n",
       "DISTCD         0\n",
       "STATNAME       0\n",
       "DISTNAME       0\n",
       "TOTPOPULAT    46\n",
       "GROWTHRATE    46\n",
       "OVERALL_LI    46\n",
       "FEMALE_LIT    43\n",
       "MALE_LIT      42\n",
       "dtype: int64"
      ]
     },
     "execution_count": 25,
     "metadata": {},
     "output_type": "execute_result"
    }
   ],
   "source": [
    "df.isnull().sum()"
   ]
  },
  {
   "cell_type": "code",
   "execution_count": 26,
   "metadata": {},
   "outputs": [
    {
     "data": {
      "text/plain": [
       "AC_YEAR       0\n",
       "STATCD        0\n",
       "DISTCD        0\n",
       "STATNAME      0\n",
       "DISTNAME      0\n",
       "TOTPOPULAT    0\n",
       "GROWTHRATE    0\n",
       "OVERALL_LI    0\n",
       "FEMALE_LIT    0\n",
       "MALE_LIT      0\n",
       "dtype: int64"
      ]
     },
     "execution_count": 26,
     "metadata": {},
     "output_type": "execute_result"
    }
   ],
   "source": [
    "#dropping all rows where null values\n",
    "df.dropna().isnull().sum()"
   ]
  },
  {
   "cell_type": "code",
   "execution_count": 27,
   "metadata": {},
   "outputs": [
    {
     "data": {
      "text/plain": [
       "(680, 10)"
      ]
     },
     "execution_count": 27,
     "metadata": {},
     "output_type": "execute_result"
    }
   ],
   "source": [
    "df.dropna(how='all').shape"
   ]
  },
  {
   "cell_type": "code",
   "execution_count": 28,
   "metadata": {},
   "outputs": [
    {
     "data": {
      "text/plain": [
       "(680, 5)"
      ]
     },
     "execution_count": 28,
     "metadata": {},
     "output_type": "execute_result"
    }
   ],
   "source": [
    "df.dropna(axis=1).shape"
   ]
  },
  {
   "cell_type": "code",
   "execution_count": 29,
   "metadata": {},
   "outputs": [
    {
     "data": {
      "text/html": [
       "<div>\n",
       "<style scoped>\n",
       "    .dataframe tbody tr th:only-of-type {\n",
       "        vertical-align: middle;\n",
       "    }\n",
       "\n",
       "    .dataframe tbody tr th {\n",
       "        vertical-align: top;\n",
       "    }\n",
       "\n",
       "    .dataframe thead th {\n",
       "        text-align: right;\n",
       "    }\n",
       "</style>\n",
       "<table border=\"1\" class=\"dataframe\">\n",
       "  <thead>\n",
       "    <tr style=\"text-align: right;\">\n",
       "      <th></th>\n",
       "      <th>AC_YEAR</th>\n",
       "      <th>STATCD</th>\n",
       "      <th>DISTCD</th>\n",
       "      <th>STATNAME</th>\n",
       "      <th>DISTNAME</th>\n",
       "      <th>TOTPOPULAT</th>\n",
       "      <th>GROWTHRATE</th>\n",
       "      <th>OVERALL_LI</th>\n",
       "      <th>FEMALE_LIT</th>\n",
       "      <th>MALE_LIT</th>\n",
       "    </tr>\n",
       "  </thead>\n",
       "  <tbody>\n",
       "    <tr>\n",
       "      <td>0</td>\n",
       "      <td>2015-16</td>\n",
       "      <td>1</td>\n",
       "      <td>101</td>\n",
       "      <td>JAMMU &amp; KASHMIR</td>\n",
       "      <td>KUPWARA</td>\n",
       "      <td>875564.0</td>\n",
       "      <td>34.62</td>\n",
       "      <td>66.92</td>\n",
       "      <td>54.79</td>\n",
       "      <td>77.10</td>\n",
       "    </tr>\n",
       "    <tr>\n",
       "      <td>1</td>\n",
       "      <td>2015-16</td>\n",
       "      <td>1</td>\n",
       "      <td>102</td>\n",
       "      <td>JAMMU &amp; KASHMIR</td>\n",
       "      <td>BARAMULA</td>\n",
       "      <td>1015503.0</td>\n",
       "      <td>20.34</td>\n",
       "      <td>66.93</td>\n",
       "      <td>55.01</td>\n",
       "      <td>77.35</td>\n",
       "    </tr>\n",
       "    <tr>\n",
       "      <td>2</td>\n",
       "      <td>2015-16</td>\n",
       "      <td>1</td>\n",
       "      <td>103</td>\n",
       "      <td>JAMMU &amp; KASHMIR</td>\n",
       "      <td>SRINAGAR</td>\n",
       "      <td>1269751.0</td>\n",
       "      <td>23.56</td>\n",
       "      <td>71.21</td>\n",
       "      <td>63.47</td>\n",
       "      <td>77.95</td>\n",
       "    </tr>\n",
       "    <tr>\n",
       "      <td>3</td>\n",
       "      <td>2015-16</td>\n",
       "      <td>1</td>\n",
       "      <td>104</td>\n",
       "      <td>JAMMU &amp; KASHMIR</td>\n",
       "      <td>BADGAM</td>\n",
       "      <td>735753.0</td>\n",
       "      <td>21.18</td>\n",
       "      <td>57.98</td>\n",
       "      <td>46.60</td>\n",
       "      <td>68.56</td>\n",
       "    </tr>\n",
       "    <tr>\n",
       "      <td>4</td>\n",
       "      <td>2015-16</td>\n",
       "      <td>1</td>\n",
       "      <td>105</td>\n",
       "      <td>JAMMU &amp; KASHMIR</td>\n",
       "      <td>PULWAMA</td>\n",
       "      <td>570060.0</td>\n",
       "      <td>29.18</td>\n",
       "      <td>65.00</td>\n",
       "      <td>53.81</td>\n",
       "      <td>75.41</td>\n",
       "    </tr>\n",
       "    <tr>\n",
       "      <td>...</td>\n",
       "      <td>...</td>\n",
       "      <td>...</td>\n",
       "      <td>...</td>\n",
       "      <td>...</td>\n",
       "      <td>...</td>\n",
       "      <td>...</td>\n",
       "      <td>...</td>\n",
       "      <td>...</td>\n",
       "      <td>...</td>\n",
       "      <td>...</td>\n",
       "    </tr>\n",
       "    <tr>\n",
       "      <td>675</td>\n",
       "      <td>2015-16</td>\n",
       "      <td>36</td>\n",
       "      <td>3606</td>\n",
       "      <td>TELANGANA</td>\n",
       "      <td>RANGA REDDY</td>\n",
       "      <td>5296396.0</td>\n",
       "      <td>48.15</td>\n",
       "      <td>78.05</td>\n",
       "      <td>71.82</td>\n",
       "      <td>84.00</td>\n",
       "    </tr>\n",
       "    <tr>\n",
       "      <td>676</td>\n",
       "      <td>2015-16</td>\n",
       "      <td>36</td>\n",
       "      <td>3607</td>\n",
       "      <td>TELANGANA</td>\n",
       "      <td>MAHBUBNAGAR</td>\n",
       "      <td>4042191.0</td>\n",
       "      <td>15.03</td>\n",
       "      <td>56.06</td>\n",
       "      <td>45.65</td>\n",
       "      <td>66.27</td>\n",
       "    </tr>\n",
       "    <tr>\n",
       "      <td>677</td>\n",
       "      <td>2015-16</td>\n",
       "      <td>36</td>\n",
       "      <td>3608</td>\n",
       "      <td>TELANGANA</td>\n",
       "      <td>NALGONDA</td>\n",
       "      <td>3483648.0</td>\n",
       "      <td>7.26</td>\n",
       "      <td>65.05</td>\n",
       "      <td>55.05</td>\n",
       "      <td>74.94</td>\n",
       "    </tr>\n",
       "    <tr>\n",
       "      <td>678</td>\n",
       "      <td>2015-16</td>\n",
       "      <td>36</td>\n",
       "      <td>3609</td>\n",
       "      <td>TELANGANA</td>\n",
       "      <td>WARANGAL</td>\n",
       "      <td>3522644.0</td>\n",
       "      <td>8.52</td>\n",
       "      <td>66.16</td>\n",
       "      <td>56.45</td>\n",
       "      <td>75.91</td>\n",
       "    </tr>\n",
       "    <tr>\n",
       "      <td>679</td>\n",
       "      <td>2015-16</td>\n",
       "      <td>36</td>\n",
       "      <td>3610</td>\n",
       "      <td>TELANGANA</td>\n",
       "      <td>KHAMMAM</td>\n",
       "      <td>2798214.0</td>\n",
       "      <td>8.50</td>\n",
       "      <td>65.46</td>\n",
       "      <td>57.85</td>\n",
       "      <td>73.20</td>\n",
       "    </tr>\n",
       "  </tbody>\n",
       "</table>\n",
       "<p>680 rows × 10 columns</p>\n",
       "</div>"
      ],
      "text/plain": [
       "     AC_YEAR  STATCD  DISTCD         STATNAME     DISTNAME  TOTPOPULAT  \\\n",
       "0    2015-16       1     101  JAMMU & KASHMIR      KUPWARA    875564.0   \n",
       "1    2015-16       1     102  JAMMU & KASHMIR     BARAMULA   1015503.0   \n",
       "2    2015-16       1     103  JAMMU & KASHMIR     SRINAGAR   1269751.0   \n",
       "3    2015-16       1     104  JAMMU & KASHMIR       BADGAM    735753.0   \n",
       "4    2015-16       1     105  JAMMU & KASHMIR      PULWAMA    570060.0   \n",
       "..       ...     ...     ...              ...          ...         ...   \n",
       "675  2015-16      36    3606        TELANGANA  RANGA REDDY   5296396.0   \n",
       "676  2015-16      36    3607        TELANGANA  MAHBUBNAGAR   4042191.0   \n",
       "677  2015-16      36    3608        TELANGANA     NALGONDA   3483648.0   \n",
       "678  2015-16      36    3609        TELANGANA     WARANGAL   3522644.0   \n",
       "679  2015-16      36    3610        TELANGANA      KHAMMAM   2798214.0   \n",
       "\n",
       "     GROWTHRATE  OVERALL_LI  FEMALE_LIT  MALE_LIT  \n",
       "0         34.62       66.92       54.79     77.10  \n",
       "1         20.34       66.93       55.01     77.35  \n",
       "2         23.56       71.21       63.47     77.95  \n",
       "3         21.18       57.98       46.60     68.56  \n",
       "4         29.18       65.00       53.81     75.41  \n",
       "..          ...         ...         ...       ...  \n",
       "675       48.15       78.05       71.82     84.00  \n",
       "676       15.03       56.06       45.65     66.27  \n",
       "677        7.26       65.05       55.05     74.94  \n",
       "678        8.52       66.16       56.45     75.91  \n",
       "679        8.50       65.46       57.85     73.20  \n",
       "\n",
       "[680 rows x 10 columns]"
      ]
     },
     "execution_count": 29,
     "metadata": {},
     "output_type": "execute_result"
    }
   ],
   "source": [
    "#filling all the missing value with 0\n",
    "df.fillna(0)#for original true"
   ]
  },
  {
   "cell_type": "code",
   "execution_count": 30,
   "metadata": {},
   "outputs": [
    {
     "name": "stderr",
     "output_type": "stream",
     "text": [
      "C:\\ProgramData\\Anaconda3\\lib\\site-packages\\pandas\\core\\generic.py:6287: SettingWithCopyWarning: \n",
      "A value is trying to be set on a copy of a slice from a DataFrame\n",
      "\n",
      "See the caveats in the documentation: http://pandas.pydata.org/pandas-docs/stable/user_guide/indexing.html#returning-a-view-versus-a-copy\n",
      "  self._update_inplace(new_data)\n"
     ]
    }
   ],
   "source": [
    "df['GROWTHRATE'].fillna(df['GROWTHRATE'].mean(),inplace=True)\n",
    "df['TOTPOPULAT'].fillna(df['TOTPOPULAT'].mean(),inplace=True)\n",
    "df['OVERALL_LI'].fillna(df['OVERALL_LI'].mean(),inplace=True)\n",
    "df['FEMALE_LIT'].fillna(df['FEMALE_LIT'].mean(),inplace=True)\n",
    "df['MALE_LIT'].fillna(df['MALE_LIT'].mean(),inplace=True)"
   ]
  },
  {
   "cell_type": "code",
   "execution_count": 31,
   "metadata": {},
   "outputs": [
    {
     "data": {
      "text/plain": [
       "AC_YEAR       0\n",
       "STATCD        0\n",
       "DISTCD        0\n",
       "STATNAME      0\n",
       "DISTNAME      0\n",
       "TOTPOPULAT    0\n",
       "GROWTHRATE    0\n",
       "OVERALL_LI    0\n",
       "FEMALE_LIT    0\n",
       "MALE_LIT      0\n",
       "dtype: int64"
      ]
     },
     "execution_count": 31,
     "metadata": {},
     "output_type": "execute_result"
    }
   ],
   "source": [
    "df.isnull().sum()"
   ]
  },
  {
   "cell_type": "markdown",
   "metadata": {},
   "source": [
    "# Univariate Outlier Detection"
   ]
  },
  {
   "cell_type": "code",
   "execution_count": 32,
   "metadata": {},
   "outputs": [
    {
     "data": {
      "text/plain": [
       "<matplotlib.axes._subplots.AxesSubplot at 0x1b4df5122c8>"
      ]
     },
     "execution_count": 32,
     "metadata": {},
     "output_type": "execute_result"
    },
    {
     "data": {
      "image/png": "[encoded data removed]",
      "text/plain": [
       "<Figure size 432x288 with 1 Axes>"
      ]
     },
     "metadata": {
      "needs_background": "light"
     },
     "output_type": "display_data"
    }
   ],
   "source": [
    "df['TOTPOPULAT'].plot.box()"
   ]
  },
  {
   "cell_type": "code",
   "execution_count": 33,
   "metadata": {},
   "outputs": [
    {
     "data": {
      "text/plain": [
       "<matplotlib.axes._subplots.AxesSubplot at 0x1b4df566b08>"
      ]
     },
     "execution_count": 33,
     "metadata": {},
     "output_type": "execute_result"
    },
    {
     "data": {
      "image/png": "[encoded data removed]",
      "text/plain": [
       "<Figure size 432x288 with 1 Axes>"
      ]
     },
     "metadata": {
      "needs_background": "light"
     },
     "output_type": "display_data"
    }
   ],
   "source": [
    "df['GROWTHRATE'].plot.box()"
   ]
  },
  {
   "cell_type": "code",
   "execution_count": 34,
   "metadata": {},
   "outputs": [
    {
     "data": {
      "text/plain": [
       "<matplotlib.axes._subplots.AxesSubplot at 0x1b4df5e4f48>"
      ]
     },
     "execution_count": 34,
     "metadata": {},
     "output_type": "execute_result"
    },
    {
     "data": {
      "image/png": "[encoded data removed]",
      "text/plain": [
       "<Figure size 432x288 with 1 Axes>"
      ]
     },
     "metadata": {
      "needs_background": "light"
     },
     "output_type": "display_data"
    }
   ],
   "source": [
    "df['OVERALL_LI'].plot.box()"
   ]
  },
  {
   "cell_type": "markdown",
   "metadata": {},
   "source": [
    "# Bivariate Outlier Detection"
   ]
  },
  {
   "cell_type": "code",
   "execution_count": 35,
   "metadata": {},
   "outputs": [
    {
     "data": {
      "text/plain": [
       "<matplotlib.axes._subplots.AxesSubplot at 0x1b4df643348>"
      ]
     },
     "execution_count": 35,
     "metadata": {},
     "output_type": "execute_result"
    },
    {
     "data": {
      "image/png": "[encoded data removed]",
      "text/plain": [
       "<Figure size 432x288 with 1 Axes>"
      ]
     },
     "metadata": {
      "needs_background": "light"
     },
     "output_type": "display_data"
    }
   ],
   "source": [
    "df.plot.scatter('GROWTHRATE','OVERALL_LI')"
   ]
  },
  {
   "cell_type": "markdown",
   "metadata": {},
   "source": [
    "# 1.Removing the outlier from the dataset"
   ]
  },
  {
   "cell_type": "code",
   "execution_count": 36,
   "metadata": {},
   "outputs": [],
   "source": [
    "df=df[df['GROWTHRATE']<75]"
   ]
  },
  {
   "cell_type": "code",
   "execution_count": 37,
   "metadata": {},
   "outputs": [
    {
     "data": {
      "text/plain": [
       "<matplotlib.axes._subplots.AxesSubplot at 0x1b4df6b9848>"
      ]
     },
     "execution_count": 37,
     "metadata": {},
     "output_type": "execute_result"
    },
    {
     "data": {
      "image/png": "[encoded data removed]",
      "text/plain": [
       "<Figure size 432x288 with 1 Axes>"
      ]
     },
     "metadata": {
      "needs_background": "light"
     },
     "output_type": "display_data"
    }
   ],
   "source": [
    "df.plot.scatter('GROWTHRATE','OVERALL_LI')"
   ]
  },
  {
   "cell_type": "code",
   "execution_count": 38,
   "metadata": {},
   "outputs": [],
   "source": [
    "df=df[df['GROWTHRATE']> -40]"
   ]
  },
  {
   "cell_type": "code",
   "execution_count": 39,
   "metadata": {},
   "outputs": [
    {
     "data": {
      "text/plain": [
       "<matplotlib.axes._subplots.AxesSubplot at 0x1b4df71a748>"
      ]
     },
     "execution_count": 39,
     "metadata": {},
     "output_type": "execute_result"
    },
    {
     "data": {
      "image/png": "[encoded data removed]",
      "text/plain": [
       "<Figure size 432x288 with 1 Axes>"
      ]
     },
     "metadata": {
      "needs_background": "light"
     },
     "output_type": "display_data"
    }
   ],
   "source": [
    "df.plot.scatter('GROWTHRATE','OVERALL_LI')"
   ]
  },
  {
   "cell_type": "markdown",
   "metadata": {},
   "source": [
    "# 2.Replacing the Outliers in overall_literacy with the mean value"
   ]
  },
  {
   "cell_type": "code",
   "execution_count": 40,
   "metadata": {},
   "outputs": [
    {
     "name": "stderr",
     "output_type": "stream",
     "text": [
      "C:\\ProgramData\\Anaconda3\\lib\\site-packages\\pandas\\core\\indexing.py:494: SettingWithCopyWarning: \n",
      "A value is trying to be set on a copy of a slice from a DataFrame.\n",
      "Try using .loc[row_indexer,col_indexer] = value instead\n",
      "\n",
      "See the caveats in the documentation: http://pandas.pydata.org/pandas-docs/stable/user_guide/indexing.html#returning-a-view-versus-a-copy\n",
      "  self.obj[item] = s\n"
     ]
    }
   ],
   "source": [
    "import numpy as np\n",
    "df.loc[df['OVERALL_LI']<50,'OVERALL_LI']=np.mean(df['OVERALL_LI'])"
   ]
  },
  {
   "cell_type": "code",
   "execution_count": 41,
   "metadata": {},
   "outputs": [
    {
     "data": {
      "text/plain": [
       "<matplotlib.axes._subplots.AxesSubplot at 0x1b4df7c1708>"
      ]
     },
     "execution_count": 41,
     "metadata": {},
     "output_type": "execute_result"
    },
    {
     "data": {
      "image/png": "[encoded data removed]",
      "text/plain": [
       "<Figure size 432x288 with 1 Axes>"
      ]
     },
     "metadata": {
      "needs_background": "light"
     },
     "output_type": "display_data"
    }
   ],
   "source": [
    "df['OVERALL_LI'].plot.box()"
   ]
  },
  {
   "cell_type": "markdown",
   "metadata": {},
   "source": [
    "# Variable Transformation"
   ]
  },
  {
   "cell_type": "code",
   "execution_count": 42,
   "metadata": {},
   "outputs": [
    {
     "data": {
      "text/plain": [
       "<matplotlib.axes._subplots.AxesSubplot at 0x1b4df812f08>"
      ]
     },
     "execution_count": 42,
     "metadata": {},
     "output_type": "execute_result"
    },
    {
     "data": {
      "image/png": "[encoded data removed]",
      "text/plain": [
       "<Figure size 432x288 with 1 Axes>"
      ]
     },
     "metadata": {
      "needs_background": "light"
     },
     "output_type": "display_data"
    }
   ],
   "source": [
    "df['TOTPOPULAT'].plot.hist()"
   ]
  },
  {
   "cell_type": "code",
   "execution_count": 43,
   "metadata": {},
   "outputs": [
    {
     "data": {
      "text/plain": [
       "<matplotlib.axes._subplots.AxesSubplot at 0x1b4df89e108>"
      ]
     },
     "execution_count": 43,
     "metadata": {},
     "output_type": "execute_result"
    },
    {
     "data": {
      "image/png": "[encoded data removed]",
      "text/plain": [
       "<Figure size 432x288 with 1 Axes>"
      ]
     },
     "metadata": {
      "needs_background": "light"
     },
     "output_type": "display_data"
    }
   ],
   "source": [
    "np.power(df['TOTPOPULAT'],1/3).plot.hist()"
   ]
  },
  {
   "cell_type": "code",
   "execution_count": 44,
   "metadata": {},
   "outputs": [],
   "source": [
    "bins=[0,100000,1000000,3000000,10000000,400000000]\n",
    "group=['0','1','2','3','4']"
   ]
  },
  {
   "cell_type": "code",
   "execution_count": 45,
   "metadata": {},
   "outputs": [
    {
     "name": "stderr",
     "output_type": "stream",
     "text": [
      "C:\\ProgramData\\Anaconda3\\lib\\site-packages\\ipykernel_launcher.py:1: SettingWithCopyWarning: \n",
      "A value is trying to be set on a copy of a slice from a DataFrame.\n",
      "Try using .loc[row_indexer,col_indexer] = value instead\n",
      "\n",
      "See the caveats in the documentation: http://pandas.pydata.org/pandas-docs/stable/user_guide/indexing.html#returning-a-view-versus-a-copy\n",
      "  \"\"\"Entry point for launching an IPython kernel.\n"
     ]
    }
   ],
   "source": [
    "df['Type']=pd.cut(df['TOTPOPULAT'],bins,labels=group)"
   ]
  },
  {
   "cell_type": "code",
   "execution_count": 46,
   "metadata": {},
   "outputs": [
    {
     "data": {
      "text/html": [
       "<div>\n",
       "<style scoped>\n",
       "    .dataframe tbody tr th:only-of-type {\n",
       "        vertical-align: middle;\n",
       "    }\n",
       "\n",
       "    .dataframe tbody tr th {\n",
       "        vertical-align: top;\n",
       "    }\n",
       "\n",
       "    .dataframe thead th {\n",
       "        text-align: right;\n",
       "    }\n",
       "</style>\n",
       "<table border=\"1\" class=\"dataframe\">\n",
       "  <thead>\n",
       "    <tr style=\"text-align: right;\">\n",
       "      <th></th>\n",
       "      <th>AC_YEAR</th>\n",
       "      <th>STATCD</th>\n",
       "      <th>DISTCD</th>\n",
       "      <th>STATNAME</th>\n",
       "      <th>DISTNAME</th>\n",
       "      <th>TOTPOPULAT</th>\n",
       "      <th>GROWTHRATE</th>\n",
       "      <th>OVERALL_LI</th>\n",
       "      <th>FEMALE_LIT</th>\n",
       "      <th>MALE_LIT</th>\n",
       "      <th>Type</th>\n",
       "    </tr>\n",
       "  </thead>\n",
       "  <tbody>\n",
       "    <tr>\n",
       "      <td>0</td>\n",
       "      <td>2015-16</td>\n",
       "      <td>1</td>\n",
       "      <td>101</td>\n",
       "      <td>JAMMU &amp; KASHMIR</td>\n",
       "      <td>KUPWARA</td>\n",
       "      <td>875564.0</td>\n",
       "      <td>34.62</td>\n",
       "      <td>66.92</td>\n",
       "      <td>54.79</td>\n",
       "      <td>77.10</td>\n",
       "      <td>1</td>\n",
       "    </tr>\n",
       "    <tr>\n",
       "      <td>1</td>\n",
       "      <td>2015-16</td>\n",
       "      <td>1</td>\n",
       "      <td>102</td>\n",
       "      <td>JAMMU &amp; KASHMIR</td>\n",
       "      <td>BARAMULA</td>\n",
       "      <td>1015503.0</td>\n",
       "      <td>20.34</td>\n",
       "      <td>66.93</td>\n",
       "      <td>55.01</td>\n",
       "      <td>77.35</td>\n",
       "      <td>2</td>\n",
       "    </tr>\n",
       "    <tr>\n",
       "      <td>2</td>\n",
       "      <td>2015-16</td>\n",
       "      <td>1</td>\n",
       "      <td>103</td>\n",
       "      <td>JAMMU &amp; KASHMIR</td>\n",
       "      <td>SRINAGAR</td>\n",
       "      <td>1269751.0</td>\n",
       "      <td>23.56</td>\n",
       "      <td>71.21</td>\n",
       "      <td>63.47</td>\n",
       "      <td>77.95</td>\n",
       "      <td>2</td>\n",
       "    </tr>\n",
       "    <tr>\n",
       "      <td>3</td>\n",
       "      <td>2015-16</td>\n",
       "      <td>1</td>\n",
       "      <td>104</td>\n",
       "      <td>JAMMU &amp; KASHMIR</td>\n",
       "      <td>BADGAM</td>\n",
       "      <td>735753.0</td>\n",
       "      <td>21.18</td>\n",
       "      <td>57.98</td>\n",
       "      <td>46.60</td>\n",
       "      <td>68.56</td>\n",
       "      <td>1</td>\n",
       "    </tr>\n",
       "    <tr>\n",
       "      <td>4</td>\n",
       "      <td>2015-16</td>\n",
       "      <td>1</td>\n",
       "      <td>105</td>\n",
       "      <td>JAMMU &amp; KASHMIR</td>\n",
       "      <td>PULWAMA</td>\n",
       "      <td>570060.0</td>\n",
       "      <td>29.18</td>\n",
       "      <td>65.00</td>\n",
       "      <td>53.81</td>\n",
       "      <td>75.41</td>\n",
       "      <td>1</td>\n",
       "    </tr>\n",
       "  </tbody>\n",
       "</table>\n",
       "</div>"
      ],
      "text/plain": [
       "   AC_YEAR  STATCD  DISTCD         STATNAME  DISTNAME  TOTPOPULAT  GROWTHRATE  \\\n",
       "0  2015-16       1     101  JAMMU & KASHMIR   KUPWARA    875564.0       34.62   \n",
       "1  2015-16       1     102  JAMMU & KASHMIR  BARAMULA   1015503.0       20.34   \n",
       "2  2015-16       1     103  JAMMU & KASHMIR  SRINAGAR   1269751.0       23.56   \n",
       "3  2015-16       1     104  JAMMU & KASHMIR    BADGAM    735753.0       21.18   \n",
       "4  2015-16       1     105  JAMMU & KASHMIR   PULWAMA    570060.0       29.18   \n",
       "\n",
       "   OVERALL_LI  FEMALE_LIT  MALE_LIT Type  \n",
       "0       66.92       54.79     77.10    1  \n",
       "1       66.93       55.01     77.35    2  \n",
       "2       71.21       63.47     77.95    2  \n",
       "3       57.98       46.60     68.56    1  \n",
       "4       65.00       53.81     75.41    1  "
      ]
     },
     "execution_count": 46,
     "metadata": {},
     "output_type": "execute_result"
    }
   ],
   "source": [
    "df.head()"
   ]
  },
  {
   "cell_type": "code",
   "execution_count": 47,
   "metadata": {},
   "outputs": [
    {
     "data": {
      "text/plain": [
       "2    364\n",
       "1    166\n",
       "3    122\n",
       "0     23\n",
       "4      2\n",
       "Name: Type, dtype: int64"
      ]
     },
     "execution_count": 47,
     "metadata": {},
     "output_type": "execute_result"
    }
   ],
   "source": [
    "df['Type'].value_counts()"
   ]
  },
  {
   "cell_type": "code",
   "execution_count": 48,
   "metadata": {},
   "outputs": [
    {
     "data": {
      "text/html": [
       "<div>\n",
       "<style scoped>\n",
       "    .dataframe tbody tr th:only-of-type {\n",
       "        vertical-align: middle;\n",
       "    }\n",
       "\n",
       "    .dataframe tbody tr th {\n",
       "        vertical-align: top;\n",
       "    }\n",
       "\n",
       "    .dataframe thead th {\n",
       "        text-align: right;\n",
       "    }\n",
       "</style>\n",
       "<table border=\"1\" class=\"dataframe\">\n",
       "  <thead>\n",
       "    <tr style=\"text-align: right;\">\n",
       "      <th></th>\n",
       "      <th>AC_YEAR</th>\n",
       "      <th>STATCD</th>\n",
       "      <th>DISTCD</th>\n",
       "      <th>STATNAME</th>\n",
       "      <th>DISTNAME</th>\n",
       "      <th>TOTPOPULAT</th>\n",
       "      <th>GROWTHRATE</th>\n",
       "      <th>OVERALL_LI</th>\n",
       "      <th>FEMALE_LIT</th>\n",
       "      <th>MALE_LIT</th>\n",
       "      <th>Type</th>\n",
       "    </tr>\n",
       "  </thead>\n",
       "  <tbody>\n",
       "    <tr>\n",
       "      <td>0</td>\n",
       "      <td>2015-16</td>\n",
       "      <td>1</td>\n",
       "      <td>101</td>\n",
       "      <td>JAMMU &amp; KASHMIR</td>\n",
       "      <td>KUPWARA</td>\n",
       "      <td>875564.0</td>\n",
       "      <td>34.62</td>\n",
       "      <td>66.92</td>\n",
       "      <td>54.79</td>\n",
       "      <td>77.10</td>\n",
       "      <td>1</td>\n",
       "    </tr>\n",
       "    <tr>\n",
       "      <td>1</td>\n",
       "      <td>2015-16</td>\n",
       "      <td>1</td>\n",
       "      <td>102</td>\n",
       "      <td>JAMMU &amp; KASHMIR</td>\n",
       "      <td>BARAMULA</td>\n",
       "      <td>1015503.0</td>\n",
       "      <td>20.34</td>\n",
       "      <td>66.93</td>\n",
       "      <td>55.01</td>\n",
       "      <td>77.35</td>\n",
       "      <td>2</td>\n",
       "    </tr>\n",
       "    <tr>\n",
       "      <td>2</td>\n",
       "      <td>2015-16</td>\n",
       "      <td>1</td>\n",
       "      <td>103</td>\n",
       "      <td>JAMMU &amp; KASHMIR</td>\n",
       "      <td>SRINAGAR</td>\n",
       "      <td>1269751.0</td>\n",
       "      <td>23.56</td>\n",
       "      <td>71.21</td>\n",
       "      <td>63.47</td>\n",
       "      <td>77.95</td>\n",
       "      <td>2</td>\n",
       "    </tr>\n",
       "    <tr>\n",
       "      <td>3</td>\n",
       "      <td>2015-16</td>\n",
       "      <td>1</td>\n",
       "      <td>104</td>\n",
       "      <td>JAMMU &amp; KASHMIR</td>\n",
       "      <td>BADGAM</td>\n",
       "      <td>735753.0</td>\n",
       "      <td>21.18</td>\n",
       "      <td>57.98</td>\n",
       "      <td>46.60</td>\n",
       "      <td>68.56</td>\n",
       "      <td>1</td>\n",
       "    </tr>\n",
       "    <tr>\n",
       "      <td>4</td>\n",
       "      <td>2015-16</td>\n",
       "      <td>1</td>\n",
       "      <td>105</td>\n",
       "      <td>JAMMU &amp; KASHMIR</td>\n",
       "      <td>PULWAMA</td>\n",
       "      <td>570060.0</td>\n",
       "      <td>29.18</td>\n",
       "      <td>65.00</td>\n",
       "      <td>53.81</td>\n",
       "      <td>75.41</td>\n",
       "      <td>1</td>\n",
       "    </tr>\n",
       "  </tbody>\n",
       "</table>\n",
       "</div>"
      ],
      "text/plain": [
       "   AC_YEAR  STATCD  DISTCD         STATNAME  DISTNAME  TOTPOPULAT  GROWTHRATE  \\\n",
       "0  2015-16       1     101  JAMMU & KASHMIR   KUPWARA    875564.0       34.62   \n",
       "1  2015-16       1     102  JAMMU & KASHMIR  BARAMULA   1015503.0       20.34   \n",
       "2  2015-16       1     103  JAMMU & KASHMIR  SRINAGAR   1269751.0       23.56   \n",
       "3  2015-16       1     104  JAMMU & KASHMIR    BADGAM    735753.0       21.18   \n",
       "4  2015-16       1     105  JAMMU & KASHMIR   PULWAMA    570060.0       29.18   \n",
       "\n",
       "   OVERALL_LI  FEMALE_LIT  MALE_LIT Type  \n",
       "0       66.92       54.79     77.10    1  \n",
       "1       66.93       55.01     77.35    2  \n",
       "2       71.21       63.47     77.95    2  \n",
       "3       57.98       46.60     68.56    1  \n",
       "4       65.00       53.81     75.41    1  "
      ]
     },
     "execution_count": 48,
     "metadata": {},
     "output_type": "execute_result"
    }
   ],
   "source": [
    "df.head()"
   ]
  },
  {
   "cell_type": "code",
   "execution_count": 49,
   "metadata": {},
   "outputs": [
    {
     "data": {
      "text/plain": [
       "<matplotlib.axes._subplots.AxesSubplot at 0x1b4df936b88>"
      ]
     },
     "execution_count": 49,
     "metadata": {},
     "output_type": "execute_result"
    },
    {
     "data": {
      "image/png": "[encoded data removed]",
      "text/plain": [
       "<Figure size 432x288 with 1 Axes>"
      ]
     },
     "metadata": {
      "needs_background": "light"
     },
     "output_type": "display_data"
    }
   ],
   "source": [
    "np.log(df['OVERALL_LI']).plot.hist()"
   ]
  },
  {
   "cell_type": "code",
   "execution_count": 50,
   "metadata": {},
   "outputs": [],
   "source": [
    "bins=[0,70,100]\n",
    "group=['0','1']"
   ]
  },
  {
   "cell_type": "code",
   "execution_count": 51,
   "metadata": {},
   "outputs": [
    {
     "name": "stderr",
     "output_type": "stream",
     "text": [
      "C:\\ProgramData\\Anaconda3\\lib\\site-packages\\ipykernel_launcher.py:1: SettingWithCopyWarning: \n",
      "A value is trying to be set on a copy of a slice from a DataFrame.\n",
      "Try using .loc[row_indexer,col_indexer] = value instead\n",
      "\n",
      "See the caveats in the documentation: http://pandas.pydata.org/pandas-docs/stable/user_guide/indexing.html#returning-a-view-versus-a-copy\n",
      "  \"\"\"Entry point for launching an IPython kernel.\n"
     ]
    }
   ],
   "source": [
    "df['Literacy']=pd.cut(df['OVERALL_LI'],bins,labels=group)"
   ]
  },
  {
   "cell_type": "code",
   "execution_count": 52,
   "metadata": {},
   "outputs": [
    {
     "data": {
      "text/html": [
       "<div>\n",
       "<style scoped>\n",
       "    .dataframe tbody tr th:only-of-type {\n",
       "        vertical-align: middle;\n",
       "    }\n",
       "\n",
       "    .dataframe tbody tr th {\n",
       "        vertical-align: top;\n",
       "    }\n",
       "\n",
       "    .dataframe thead th {\n",
       "        text-align: right;\n",
       "    }\n",
       "</style>\n",
       "<table border=\"1\" class=\"dataframe\">\n",
       "  <thead>\n",
       "    <tr style=\"text-align: right;\">\n",
       "      <th></th>\n",
       "      <th>AC_YEAR</th>\n",
       "      <th>STATCD</th>\n",
       "      <th>DISTCD</th>\n",
       "      <th>STATNAME</th>\n",
       "      <th>DISTNAME</th>\n",
       "      <th>TOTPOPULAT</th>\n",
       "      <th>GROWTHRATE</th>\n",
       "      <th>OVERALL_LI</th>\n",
       "      <th>FEMALE_LIT</th>\n",
       "      <th>MALE_LIT</th>\n",
       "      <th>Type</th>\n",
       "      <th>Literacy</th>\n",
       "    </tr>\n",
       "  </thead>\n",
       "  <tbody>\n",
       "    <tr>\n",
       "      <td>0</td>\n",
       "      <td>2015-16</td>\n",
       "      <td>1</td>\n",
       "      <td>101</td>\n",
       "      <td>JAMMU &amp; KASHMIR</td>\n",
       "      <td>KUPWARA</td>\n",
       "      <td>875564.0</td>\n",
       "      <td>34.62</td>\n",
       "      <td>66.92</td>\n",
       "      <td>54.79</td>\n",
       "      <td>77.10</td>\n",
       "      <td>1</td>\n",
       "      <td>0</td>\n",
       "    </tr>\n",
       "    <tr>\n",
       "      <td>1</td>\n",
       "      <td>2015-16</td>\n",
       "      <td>1</td>\n",
       "      <td>102</td>\n",
       "      <td>JAMMU &amp; KASHMIR</td>\n",
       "      <td>BARAMULA</td>\n",
       "      <td>1015503.0</td>\n",
       "      <td>20.34</td>\n",
       "      <td>66.93</td>\n",
       "      <td>55.01</td>\n",
       "      <td>77.35</td>\n",
       "      <td>2</td>\n",
       "      <td>0</td>\n",
       "    </tr>\n",
       "    <tr>\n",
       "      <td>2</td>\n",
       "      <td>2015-16</td>\n",
       "      <td>1</td>\n",
       "      <td>103</td>\n",
       "      <td>JAMMU &amp; KASHMIR</td>\n",
       "      <td>SRINAGAR</td>\n",
       "      <td>1269751.0</td>\n",
       "      <td>23.56</td>\n",
       "      <td>71.21</td>\n",
       "      <td>63.47</td>\n",
       "      <td>77.95</td>\n",
       "      <td>2</td>\n",
       "      <td>1</td>\n",
       "    </tr>\n",
       "    <tr>\n",
       "      <td>3</td>\n",
       "      <td>2015-16</td>\n",
       "      <td>1</td>\n",
       "      <td>104</td>\n",
       "      <td>JAMMU &amp; KASHMIR</td>\n",
       "      <td>BADGAM</td>\n",
       "      <td>735753.0</td>\n",
       "      <td>21.18</td>\n",
       "      <td>57.98</td>\n",
       "      <td>46.60</td>\n",
       "      <td>68.56</td>\n",
       "      <td>1</td>\n",
       "      <td>0</td>\n",
       "    </tr>\n",
       "    <tr>\n",
       "      <td>4</td>\n",
       "      <td>2015-16</td>\n",
       "      <td>1</td>\n",
       "      <td>105</td>\n",
       "      <td>JAMMU &amp; KASHMIR</td>\n",
       "      <td>PULWAMA</td>\n",
       "      <td>570060.0</td>\n",
       "      <td>29.18</td>\n",
       "      <td>65.00</td>\n",
       "      <td>53.81</td>\n",
       "      <td>75.41</td>\n",
       "      <td>1</td>\n",
       "      <td>0</td>\n",
       "    </tr>\n",
       "    <tr>\n",
       "      <td>...</td>\n",
       "      <td>...</td>\n",
       "      <td>...</td>\n",
       "      <td>...</td>\n",
       "      <td>...</td>\n",
       "      <td>...</td>\n",
       "      <td>...</td>\n",
       "      <td>...</td>\n",
       "      <td>...</td>\n",
       "      <td>...</td>\n",
       "      <td>...</td>\n",
       "      <td>...</td>\n",
       "      <td>...</td>\n",
       "    </tr>\n",
       "    <tr>\n",
       "      <td>675</td>\n",
       "      <td>2015-16</td>\n",
       "      <td>36</td>\n",
       "      <td>3606</td>\n",
       "      <td>TELANGANA</td>\n",
       "      <td>RANGA REDDY</td>\n",
       "      <td>5296396.0</td>\n",
       "      <td>48.15</td>\n",
       "      <td>78.05</td>\n",
       "      <td>71.82</td>\n",
       "      <td>84.00</td>\n",
       "      <td>3</td>\n",
       "      <td>1</td>\n",
       "    </tr>\n",
       "    <tr>\n",
       "      <td>676</td>\n",
       "      <td>2015-16</td>\n",
       "      <td>36</td>\n",
       "      <td>3607</td>\n",
       "      <td>TELANGANA</td>\n",
       "      <td>MAHBUBNAGAR</td>\n",
       "      <td>4042191.0</td>\n",
       "      <td>15.03</td>\n",
       "      <td>56.06</td>\n",
       "      <td>45.65</td>\n",
       "      <td>66.27</td>\n",
       "      <td>3</td>\n",
       "      <td>0</td>\n",
       "    </tr>\n",
       "    <tr>\n",
       "      <td>677</td>\n",
       "      <td>2015-16</td>\n",
       "      <td>36</td>\n",
       "      <td>3608</td>\n",
       "      <td>TELANGANA</td>\n",
       "      <td>NALGONDA</td>\n",
       "      <td>3483648.0</td>\n",
       "      <td>7.26</td>\n",
       "      <td>65.05</td>\n",
       "      <td>55.05</td>\n",
       "      <td>74.94</td>\n",
       "      <td>3</td>\n",
       "      <td>0</td>\n",
       "    </tr>\n",
       "    <tr>\n",
       "      <td>678</td>\n",
       "      <td>2015-16</td>\n",
       "      <td>36</td>\n",
       "      <td>3609</td>\n",
       "      <td>TELANGANA</td>\n",
       "      <td>WARANGAL</td>\n",
       "      <td>3522644.0</td>\n",
       "      <td>8.52</td>\n",
       "      <td>66.16</td>\n",
       "      <td>56.45</td>\n",
       "      <td>75.91</td>\n",
       "      <td>3</td>\n",
       "      <td>0</td>\n",
       "    </tr>\n",
       "    <tr>\n",
       "      <td>679</td>\n",
       "      <td>2015-16</td>\n",
       "      <td>36</td>\n",
       "      <td>3610</td>\n",
       "      <td>TELANGANA</td>\n",
       "      <td>KHAMMAM</td>\n",
       "      <td>2798214.0</td>\n",
       "      <td>8.50</td>\n",
       "      <td>65.46</td>\n",
       "      <td>57.85</td>\n",
       "      <td>73.20</td>\n",
       "      <td>2</td>\n",
       "      <td>0</td>\n",
       "    </tr>\n",
       "  </tbody>\n",
       "</table>\n",
       "<p>677 rows × 12 columns</p>\n",
       "</div>"
      ],
      "text/plain": [
       "     AC_YEAR  STATCD  DISTCD         STATNAME     DISTNAME  TOTPOPULAT  \\\n",
       "0    2015-16       1     101  JAMMU & KASHMIR      KUPWARA    875564.0   \n",
       "1    2015-16       1     102  JAMMU & KASHMIR     BARAMULA   1015503.0   \n",
       "2    2015-16       1     103  JAMMU & KASHMIR     SRINAGAR   1269751.0   \n",
       "3    2015-16       1     104  JAMMU & KASHMIR       BADGAM    735753.0   \n",
       "4    2015-16       1     105  JAMMU & KASHMIR      PULWAMA    570060.0   \n",
       "..       ...     ...     ...              ...          ...         ...   \n",
       "675  2015-16      36    3606        TELANGANA  RANGA REDDY   5296396.0   \n",
       "676  2015-16      36    3607        TELANGANA  MAHBUBNAGAR   4042191.0   \n",
       "677  2015-16      36    3608        TELANGANA     NALGONDA   3483648.0   \n",
       "678  2015-16      36    3609        TELANGANA     WARANGAL   3522644.0   \n",
       "679  2015-16      36    3610        TELANGANA      KHAMMAM   2798214.0   \n",
       "\n",
       "     GROWTHRATE  OVERALL_LI  FEMALE_LIT  MALE_LIT Type Literacy  \n",
       "0         34.62       66.92       54.79     77.10    1        0  \n",
       "1         20.34       66.93       55.01     77.35    2        0  \n",
       "2         23.56       71.21       63.47     77.95    2        1  \n",
       "3         21.18       57.98       46.60     68.56    1        0  \n",
       "4         29.18       65.00       53.81     75.41    1        0  \n",
       "..          ...         ...         ...       ...  ...      ...  \n",
       "675       48.15       78.05       71.82     84.00    3        1  \n",
       "676       15.03       56.06       45.65     66.27    3        0  \n",
       "677        7.26       65.05       55.05     74.94    3        0  \n",
       "678        8.52       66.16       56.45     75.91    3        0  \n",
       "679        8.50       65.46       57.85     73.20    2        0  \n",
       "\n",
       "[677 rows x 12 columns]"
      ]
     },
     "execution_count": 52,
     "metadata": {},
     "output_type": "execute_result"
    }
   ],
   "source": [
    "df"
   ]
  },
  {
   "cell_type": "code",
   "execution_count": 53,
   "metadata": {},
   "outputs": [],
   "source": [
    "df=df.iloc[:,[1,2,6,7,8,9,10,11]]"
   ]
  },
  {
   "cell_type": "code",
   "execution_count": 54,
   "metadata": {},
   "outputs": [],
   "source": [
    "train=df[0:400]"
   ]
  },
  {
   "cell_type": "code",
   "execution_count": 55,
   "metadata": {},
   "outputs": [],
   "source": [
    "test=df[400:]"
   ]
  },
  {
   "cell_type": "code",
   "execution_count": 56,
   "metadata": {},
   "outputs": [],
   "source": [
    "x_train = train.drop('Type',axis=1)"
   ]
  },
  {
   "cell_type": "code",
   "execution_count": 57,
   "metadata": {},
   "outputs": [],
   "source": [
    "y_train = train['Type']"
   ]
  },
  {
   "cell_type": "code",
   "execution_count": 58,
   "metadata": {},
   "outputs": [],
   "source": [
    "x_test = train.drop('Type',axis=1)"
   ]
  },
  {
   "cell_type": "code",
   "execution_count": 59,
   "metadata": {},
   "outputs": [],
   "source": [
    "y_test = train['Type']"
   ]
  },
  {
   "cell_type": "code",
   "execution_count": 60,
   "metadata": {},
   "outputs": [],
   "source": [
    "from sklearn.linear_model import LogisticRegression"
   ]
  },
  {
   "cell_type": "code",
   "execution_count": 61,
   "metadata": {},
   "outputs": [],
   "source": [
    "model = LogisticRegression()"
   ]
  },
  {
   "cell_type": "code",
   "execution_count": 62,
   "metadata": {},
   "outputs": [
    {
     "name": "stderr",
     "output_type": "stream",
     "text": [
      "C:\\ProgramData\\Anaconda3\\lib\\site-packages\\sklearn\\linear_model\\logistic.py:432: FutureWarning: Default solver will be changed to 'lbfgs' in 0.22. Specify a solver to silence this warning.\n",
      "  FutureWarning)\n",
      "C:\\ProgramData\\Anaconda3\\lib\\site-packages\\sklearn\\linear_model\\logistic.py:469: FutureWarning: Default multi_class will be changed to 'auto' in 0.22. Specify the multi_class option to silence this warning.\n",
      "  \"this warning.\", FutureWarning)\n"
     ]
    }
   ],
   "source": [
    "predd = model.fit(x_train,y_train)"
   ]
  },
  {
   "cell_type": "code",
   "execution_count": 63,
   "metadata": {},
   "outputs": [
    {
     "data": {
      "text/plain": [
       "LogisticRegression(C=1.0, class_weight=None, dual=False, fit_intercept=True,\n",
       "                   intercept_scaling=1, l1_ratio=None, max_iter=100,\n",
       "                   multi_class='warn', n_jobs=None, penalty='l2',\n",
       "                   random_state=None, solver='warn', tol=0.0001, verbose=0,\n",
       "                   warm_start=False)"
      ]
     },
     "execution_count": 63,
     "metadata": {},
     "output_type": "execute_result"
    }
   ],
   "source": [
    "model"
   ]
  },
  {
   "cell_type": "code",
   "execution_count": 64,
   "metadata": {},
   "outputs": [
    {
     "data": {
      "text/plain": [
       "0.5525"
      ]
     },
     "execution_count": 64,
     "metadata": {},
     "output_type": "execute_result"
    }
   ],
   "source": [
    "model.score(x_test,y_test)"
   ]
  },
  {
   "cell_type": "code",
   "execution_count": 65,
   "metadata": {},
   "outputs": [
    {
     "data": {
      "text/plain": [
       "0.5525"
      ]
     },
     "execution_count": 65,
     "metadata": {},
     "output_type": "execute_result"
    }
   ],
   "source": [
    "model.score(x_train,y_train)"
   ]
  },
  {
   "cell_type": "code",
   "execution_count": 66,
   "metadata": {},
   "outputs": [],
   "source": [
    "#separating independent and dependent variables\n",
    "x= df.drop(['Literacy'], axis =1)\n",
    "y = df['Literacy']"
   ]
  },
  {
   "cell_type": "code",
   "execution_count": 67,
   "metadata": {},
   "outputs": [],
   "source": [
    "from sklearn.model_selection import train_test_split"
   ]
  },
  {
   "cell_type": "code",
   "execution_count": 68,
   "metadata": {},
   "outputs": [],
   "source": [
    "train_x,test_x,train_y,test_y = train_test_split(x,y,random_state=101,stratify=y)"
   ]
  },
  {
   "cell_type": "code",
   "execution_count": 69,
   "metadata": {},
   "outputs": [],
   "source": [
    "from sklearn.preprocessing import StandardScaler\n",
    "sc = StandardScaler()\n",
    "train_x = sc.fit_transform(train_x)\n",
    "test_x = sc.transform(test_x)"
   ]
  },
  {
   "cell_type": "code",
   "execution_count": 70,
   "metadata": {},
   "outputs": [
    {
     "data": {
      "text/plain": [
       "1    0.672584\n",
       "0    0.327416\n",
       "Name: Literacy, dtype: float64"
      ]
     },
     "execution_count": 70,
     "metadata": {},
     "output_type": "execute_result"
    }
   ],
   "source": [
    "train_y.value_counts()/len(train_y)"
   ]
  },
  {
   "cell_type": "code",
   "execution_count": 71,
   "metadata": {},
   "outputs": [
    {
     "data": {
      "text/plain": [
       "1    0.676471\n",
       "0    0.323529\n",
       "Name: Literacy, dtype: float64"
      ]
     },
     "execution_count": 71,
     "metadata": {},
     "output_type": "execute_result"
    }
   ],
   "source": [
    "test_y.value_counts()/len(test_y)"
   ]
  },
  {
   "cell_type": "code",
   "execution_count": 72,
   "metadata": {},
   "outputs": [],
   "source": [
    "from sklearn.tree import DecisionTreeClassifier"
   ]
  },
  {
   "cell_type": "code",
   "execution_count": 73,
   "metadata": {},
   "outputs": [],
   "source": [
    "clf = DecisionTreeClassifier()"
   ]
  },
  {
   "cell_type": "code",
   "execution_count": 74,
   "metadata": {},
   "outputs": [
    {
     "data": {
      "text/plain": [
       "DecisionTreeClassifier(class_weight=None, criterion='gini', max_depth=None,\n",
       "                       max_features=None, max_leaf_nodes=None,\n",
       "                       min_impurity_decrease=0.0, min_impurity_split=None,\n",
       "                       min_samples_leaf=1, min_samples_split=2,\n",
       "                       min_weight_fraction_leaf=0.0, presort=False,\n",
       "                       random_state=None, splitter='best')"
      ]
     },
     "execution_count": 74,
     "metadata": {},
     "output_type": "execute_result"
    }
   ],
   "source": [
    "clf.fit(train_x,train_y)"
   ]
  },
  {
   "cell_type": "code",
   "execution_count": 75,
   "metadata": {},
   "outputs": [
    {
     "data": {
      "text/plain": [
       "1.0"
      ]
     },
     "execution_count": 75,
     "metadata": {},
     "output_type": "execute_result"
    }
   ],
   "source": [
    "clf.score(train_x,train_y)"
   ]
  },
  {
   "cell_type": "code",
   "execution_count": 76,
   "metadata": {},
   "outputs": [
    {
     "data": {
      "text/plain": [
       "1.0"
      ]
     },
     "execution_count": 76,
     "metadata": {},
     "output_type": "execute_result"
    }
   ],
   "source": [
    "clf.score(test_x,test_y)"
   ]
  },
  {
   "cell_type": "code",
   "execution_count": 77,
   "metadata": {},
   "outputs": [
    {
     "data": {
      "text/plain": [
       "1.0"
      ]
     },
     "execution_count": 77,
     "metadata": {},
     "output_type": "execute_result"
    }
   ],
   "source": [
    "pred_y = clf.predict(test_x)\n",
    "clf.score(test_x, test_y)"
   ]
  },
  {
   "cell_type": "code",
   "execution_count": 78,
   "metadata": {},
   "outputs": [
    {
     "data": {
      "text/plain": [
       "array([[ 55,   0],\n",
       "       [  0, 115]], dtype=int64)"
      ]
     },
     "execution_count": 78,
     "metadata": {},
     "output_type": "execute_result"
    }
   ],
   "source": [
    "from sklearn.metrics import confusion_matrix\n",
    "cm=confusion_matrix(test_y, pred_y)\n",
    "cm"
   ]
  },
  {
   "cell_type": "code",
   "execution_count": 79,
   "metadata": {},
   "outputs": [
    {
     "data": {
      "text/plain": [
       "1.0"
      ]
     },
     "execution_count": 79,
     "metadata": {},
     "output_type": "execute_result"
    }
   ],
   "source": [
    "from sklearn import metrics\n",
    "metrics.accuracy_score(test_y,pred_y)"
   ]
  },
  {
   "cell_type": "code",
   "execution_count": 80,
   "metadata": {},
   "outputs": [
    {
     "name": "stderr",
     "output_type": "stream",
     "text": [
      "'c' argument looks like a single numeric RGB or RGBA sequence, which should be avoided as value-mapping will have precedence in case its length matches with 'x' & 'y'.  Please use a 2-D array with a single row if you really want to specify the same RGB or RGBA value for all points.\n",
      "'c' argument looks like a single numeric RGB or RGBA sequence, which should be avoided as value-mapping will have precedence in case its length matches with 'x' & 'y'.  Please use a 2-D array with a single row if you really want to specify the same RGB or RGBA value for all points.\n"
     ]
    },
    {
     "data": {
      "image/png": "[encoded data removed]",
      "text/plain": [
       "<Figure size 432x288 with 1 Axes>"
      ]
     },
     "metadata": {
      "needs_background": "light"
     },
     "output_type": "display_data"
    }
   ],
   "source": [
    "from matplotlib.colors import ListedColormap\n",
    "X_set, y_set = train_x, train_y\n",
    "X1, X2 = np.meshgrid(np.arange(start = X_set[:, 0].min() - 1, stop = X_set[:, 0].max() + 1, step = 0.01),\n",
    "                     np.arange(start = X_set[:, 1].min() - 1, stop = X_set[:, 1].max() + 1, step = 0.01))\n",
    "\n",
    "plt.xlim(X1.min(), X1.max())\n",
    "plt.ylim(X2.min(), X2.max())\n",
    "for i, j in enumerate(np.unique(y_set)):\n",
    "    plt.scatter(X_set[y_set == j, 0], X_set[y_set == j, 1],\n",
    "                c = ListedColormap(('red', 'green'))(i), label = j)\n",
    "plt.title('Decision Tree Classification (Training set)')\n",
    "plt.xlabel('Other variable')\n",
    "plt.ylabel('Literacy')\n",
    "plt.legend()\n",
    "plt.show()"
   ]
  },
  {
   "cell_type": "code",
   "execution_count": null,
   "metadata": {},
   "outputs": [],
   "source": []
  },
  {
   "cell_type": "code",
   "execution_count": null,
   "metadata": {},
   "outputs": [],
   "source": []
  },
  {
   "cell_type": "code",
   "execution_count": null,
   "metadata": {},
   "outputs": [],
   "source": []
  }
 ],
 "metadata": {
  "kernelspec": {
   "display_name": "Python 3",
   "language": "python",
   "name": "python3"
  },
  "language_info": {
   "codemirror_mode": {
    "name": "ipython",
    "version": 3
   },
   "file_extension": ".py",
   "mimetype": "text/x-python",
   "name": "python",
   "nbconvert_exporter": "python",
   "pygments_lexer": "ipython3",
   "version": "3.8.5"
  }
 },
 "nbformat": 4,
 "nbformat_minor": 2
}
